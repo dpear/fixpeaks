{
 "cells": [
  {
   "cell_type": "code",
   "execution_count": 7,
   "metadata": {},
   "outputs": [],
   "source": [
    "import sys\n",
    "import pandas as pd\n",
    "import numpy as np\n",
    "import os\n",
    "import glob"
   ]
  },
  {
   "cell_type": "code",
   "execution_count": 15,
   "metadata": {},
   "outputs": [],
   "source": [
    "p ='/home/daniela/Projects/fixpeaks/upstream-regions.tsv'\n",
    "bg = '/data/diana/DKS13_YNBChIPseq/Bedgraphs/DKS13_L1_OD1_sorted_norm_50bp_smooth.bedgraph'\n",
    "\n",
    "promoters = pd.read_csv(p, delimiter = '\\t', names=['chr','start','end','length','strand','name'])\n",
    "bedgraph = pd.read_csv(bg, delimiter = '\\t', names=['chr','start','end','ht'])\n",
    "\n",
    "promoters = pd.DataFrame(promoters)\n",
    "bedgraph = pd.DataFrame(bedgraphs)"
   ]
  },
  {
   "cell_type": "code",
   "execution_count": 42,
   "metadata": {},
   "outputs": [
    {
     "name": "stdout",
     "output_type": "stream",
     "text": [
      "True\n",
      "True\n",
      "True\n",
      "False\n",
      "True\n",
      "True\n",
      "True\n",
      "False\n",
      "True\n",
      "True\n",
      "True\n",
      "False\n",
      "True\n",
      "True\n"
     ]
    }
   ],
   "source": [
    "chrs = ['chr'+str(i) for i in range(1,15)]\n",
    "\n",
    "# eliminate regions where the promoter is less than 0 or > chr_length\n",
    "\n",
    "for ch in chrs: \n",
    "    \n",
    "    if max(bedgraph[bedgraph.chr==ch]['end']) > max(promoters[promoters.chr==ch]['end']):\n",
    "        promoters[max(promoters.chr)]"
   ]
  },
  {
   "cell_type": "code",
   "execution_count": 47,
   "metadata": {},
   "outputs": [
    {
     "data": {
      "text/plain": [
       "1398752"
      ]
     },
     "execution_count": 47,
     "metadata": {},
     "output_type": "execute_result"
    }
   ],
   "source": [
    "promoters.loc[promoters[promoters.chr=='chr8']['end'].idxmax()].end\n"
   ]
  },
  {
   "cell_type": "code",
   "execution_count": 39,
   "metadata": {},
   "outputs": [
    {
     "name": "stderr",
     "output_type": "stream",
     "text": [
      "/usr/local/bin/anaconda3/lib/python3.7/site-packages/ipykernel_launcher.py:3: UserWarning: Boolean Series key will be reindexed to match DataFrame index.\n",
      "  This is separate from the ipykernel package so we can avoid doing imports until\n"
     ]
    },
    {
     "name": "stdout",
     "output_type": "stream",
     "text": [
      "984\n",
      "995\n",
      "987\n",
      "997\n",
      "994\n",
      "998\n",
      "990\n",
      "997\n",
      "995\n",
      "996\n",
      "995\n",
      "995\n",
      "990\n",
      "991\n",
      "995\n",
      "989\n",
      "995\n",
      "997\n",
      "990\n",
      "985\n",
      "996\n",
      "990\n",
      "977\n",
      "996\n",
      "995\n",
      "995\n",
      "983\n",
      "986\n",
      "995\n",
      "991\n",
      "990\n",
      "995\n",
      "996\n",
      "995\n",
      "997\n",
      "994\n",
      "986\n",
      "986\n",
      "995\n",
      "994\n",
      "998\n",
      "996\n",
      "996\n",
      "992\n",
      "988\n",
      "993\n",
      "994\n",
      "992\n",
      "994\n",
      "996\n",
      "995\n",
      "997\n",
      "995\n",
      "990\n",
      "992\n",
      "991\n",
      "990\n",
      "995\n",
      "995\n",
      "993\n",
      "992\n",
      "989\n",
      "993\n",
      "996\n",
      "996\n",
      "992\n",
      "991\n",
      "988\n",
      "991\n",
      "993\n",
      "995\n",
      "997\n",
      "991\n",
      "995\n",
      "994\n",
      "994\n",
      "997\n",
      "993\n",
      "997\n",
      "998\n",
      "992\n",
      "997\n",
      "997\n",
      "987\n",
      "994\n",
      "997\n",
      "998\n",
      "989\n",
      "990\n",
      "993\n",
      "995\n",
      "992\n",
      "995\n",
      "995\n",
      "995\n",
      "996\n",
      "995\n",
      "993\n",
      "994\n",
      "994\n",
      "996\n",
      "995\n",
      "992\n",
      "996\n",
      "994\n",
      "995\n",
      "994\n",
      "990\n",
      "994\n",
      "998\n",
      "998\n",
      "998\n",
      "998\n",
      "995\n",
      "991\n",
      "998\n",
      "997\n",
      "998\n",
      "998\n",
      "992\n",
      "994\n",
      "994\n",
      "995\n",
      "995\n",
      "998\n",
      "993\n",
      "994\n",
      "994\n",
      "996\n",
      "994\n",
      "994\n",
      "997\n",
      "991\n",
      "997\n",
      "993\n",
      "993\n",
      "994\n",
      "993\n",
      "996\n",
      "993\n",
      "992\n",
      "995\n",
      "997\n",
      "988\n",
      "994\n",
      "995\n",
      "991\n",
      "993\n",
      "987\n",
      "996\n",
      "995\n",
      "996\n",
      "998\n",
      "998\n",
      "992\n",
      "993\n",
      "996\n",
      "989\n",
      "994\n",
      "998\n",
      "998\n",
      "997\n",
      "991\n",
      "997\n",
      "998\n",
      "998\n",
      "987\n",
      "987\n",
      "987\n",
      "998\n",
      "996\n",
      "988\n",
      "992\n",
      "988\n",
      "996\n",
      "993\n",
      "993\n",
      "996\n",
      "986\n",
      "993\n",
      "990\n",
      "992\n",
      "998\n",
      "992\n",
      "997\n",
      "994\n",
      "994\n",
      "998\n",
      "998\n",
      "994\n",
      "990\n",
      "996\n",
      "996\n",
      "993\n",
      "997\n",
      "996\n",
      "998\n",
      "998\n",
      "998\n",
      "994\n",
      "996\n",
      "994\n",
      "995\n",
      "994\n",
      "997\n",
      "993\n",
      "993\n",
      "995\n",
      "992\n",
      "993\n",
      "995\n",
      "991\n",
      "992\n",
      "997\n",
      "988\n",
      "990\n",
      "995\n",
      "990\n",
      "991\n",
      "995\n",
      "993\n",
      "991\n",
      "996\n",
      "994\n",
      "991\n",
      "996\n",
      "990\n",
      "994\n",
      "990\n",
      "992\n",
      "994\n",
      "998\n",
      "997\n",
      "994\n",
      "992\n",
      "991\n",
      "994\n"
     ]
    },
    {
     "ename": "KeyboardInterrupt",
     "evalue": "",
     "output_type": "error",
     "traceback": [
      "\u001b[0;31m---------------------------------------------------------------------------\u001b[0m",
      "\u001b[0;31mKeyboardInterrupt\u001b[0m                         Traceback (most recent call last)",
      "\u001b[0;32m<ipython-input-39-cc873edb3948>\u001b[0m in \u001b[0;36m<module>\u001b[0;34m\u001b[0m\n\u001b[1;32m      1\u001b[0m \u001b[0;32mfor\u001b[0m \u001b[0midx\u001b[0m\u001b[0;34m,\u001b[0m \u001b[0mrow\u001b[0m \u001b[0;32min\u001b[0m \u001b[0mpromoters\u001b[0m\u001b[0;34m.\u001b[0m\u001b[0miterrows\u001b[0m\u001b[0;34m(\u001b[0m\u001b[0;34m)\u001b[0m\u001b[0;34m:\u001b[0m\u001b[0;34m\u001b[0m\u001b[0;34m\u001b[0m\u001b[0m\n\u001b[1;32m      2\u001b[0m     \u001b[0;31m#m = max(heights[heights.chr == row.chr][heights.start >= row.start][heights.end <= row.end].ht)\u001b[0m\u001b[0;34m\u001b[0m\u001b[0;34m\u001b[0m\u001b[0;34m\u001b[0m\u001b[0m\n\u001b[0;32m----> 3\u001b[0;31m     \u001b[0mprint\u001b[0m\u001b[0;34m(\u001b[0m\u001b[0mlen\u001b[0m\u001b[0;34m(\u001b[0m\u001b[0mbedgraph\u001b[0m\u001b[0;34m[\u001b[0m\u001b[0mbedgraph\u001b[0m\u001b[0;34m.\u001b[0m\u001b[0mchr\u001b[0m \u001b[0;34m==\u001b[0m \u001b[0mrow\u001b[0m\u001b[0;34m.\u001b[0m\u001b[0mchr\u001b[0m\u001b[0;34m]\u001b[0m\u001b[0;34m[\u001b[0m\u001b[0mbedgraph\u001b[0m\u001b[0;34m.\u001b[0m\u001b[0mstart\u001b[0m \u001b[0;34m>=\u001b[0m \u001b[0mrow\u001b[0m\u001b[0;34m.\u001b[0m\u001b[0mstart\u001b[0m\u001b[0;34m]\u001b[0m\u001b[0;34m[\u001b[0m\u001b[0mbedgraph\u001b[0m\u001b[0;34m.\u001b[0m\u001b[0mend\u001b[0m \u001b[0;34m<=\u001b[0m \u001b[0mrow\u001b[0m\u001b[0;34m.\u001b[0m\u001b[0mend\u001b[0m\u001b[0;34m]\u001b[0m\u001b[0;34m.\u001b[0m\u001b[0mht\u001b[0m\u001b[0;34m)\u001b[0m\u001b[0;34m)\u001b[0m\u001b[0;34m\u001b[0m\u001b[0;34m\u001b[0m\u001b[0m\n\u001b[0m\u001b[1;32m      4\u001b[0m     \u001b[0;31m#regions.iat[idx,6] = m\u001b[0m\u001b[0;34m\u001b[0m\u001b[0;34m\u001b[0m\u001b[0;34m\u001b[0m\u001b[0m\n\u001b[1;32m      5\u001b[0m \u001b[0mregions\u001b[0m\u001b[0;34m.\u001b[0m\u001b[0mhead\u001b[0m\u001b[0;34m(\u001b[0m\u001b[0;34m)\u001b[0m\u001b[0;34m\u001b[0m\u001b[0;34m\u001b[0m\u001b[0m\n",
      "\u001b[0;32m/usr/local/bin/anaconda3/lib/python3.7/site-packages/pandas/core/ops.py\u001b[0m in \u001b[0;36mwrapper\u001b[0;34m(self, other, axis)\u001b[0m\n\u001b[1;32m   1764\u001b[0m \u001b[0;34m\u001b[0m\u001b[0m\n\u001b[1;32m   1765\u001b[0m             \u001b[0;32mwith\u001b[0m \u001b[0mnp\u001b[0m\u001b[0;34m.\u001b[0m\u001b[0merrstate\u001b[0m\u001b[0;34m(\u001b[0m\u001b[0mall\u001b[0m\u001b[0;34m=\u001b[0m\u001b[0;34m'ignore'\u001b[0m\u001b[0;34m)\u001b[0m\u001b[0;34m:\u001b[0m\u001b[0;34m\u001b[0m\u001b[0;34m\u001b[0m\u001b[0m\n\u001b[0;32m-> 1766\u001b[0;31m                 \u001b[0mres\u001b[0m \u001b[0;34m=\u001b[0m \u001b[0mna_op\u001b[0m\u001b[0;34m(\u001b[0m\u001b[0mvalues\u001b[0m\u001b[0;34m,\u001b[0m \u001b[0mother\u001b[0m\u001b[0;34m)\u001b[0m\u001b[0;34m\u001b[0m\u001b[0;34m\u001b[0m\u001b[0m\n\u001b[0m\u001b[1;32m   1767\u001b[0m             \u001b[0;32mif\u001b[0m \u001b[0mis_scalar\u001b[0m\u001b[0;34m(\u001b[0m\u001b[0mres\u001b[0m\u001b[0;34m)\u001b[0m\u001b[0;34m:\u001b[0m\u001b[0;34m\u001b[0m\u001b[0;34m\u001b[0m\u001b[0m\n\u001b[1;32m   1768\u001b[0m                 raise TypeError('Could not compare {typ} type with Series'\n",
      "\u001b[0;32m/usr/local/bin/anaconda3/lib/python3.7/site-packages/pandas/core/ops.py\u001b[0m in \u001b[0;36mna_op\u001b[0;34m(x, y)\u001b[0m\n\u001b[1;32m   1623\u001b[0m \u001b[0;34m\u001b[0m\u001b[0m\n\u001b[1;32m   1624\u001b[0m         \u001b[0;32mif\u001b[0m \u001b[0mis_object_dtype\u001b[0m\u001b[0;34m(\u001b[0m\u001b[0mx\u001b[0m\u001b[0;34m.\u001b[0m\u001b[0mdtype\u001b[0m\u001b[0;34m)\u001b[0m\u001b[0;34m:\u001b[0m\u001b[0;34m\u001b[0m\u001b[0;34m\u001b[0m\u001b[0m\n\u001b[0;32m-> 1625\u001b[0;31m             \u001b[0mresult\u001b[0m \u001b[0;34m=\u001b[0m \u001b[0m_comp_method_OBJECT_ARRAY\u001b[0m\u001b[0;34m(\u001b[0m\u001b[0mop\u001b[0m\u001b[0;34m,\u001b[0m \u001b[0mx\u001b[0m\u001b[0;34m,\u001b[0m \u001b[0my\u001b[0m\u001b[0;34m)\u001b[0m\u001b[0;34m\u001b[0m\u001b[0;34m\u001b[0m\u001b[0m\n\u001b[0m\u001b[1;32m   1626\u001b[0m \u001b[0;34m\u001b[0m\u001b[0m\n\u001b[1;32m   1627\u001b[0m         \u001b[0;32melif\u001b[0m \u001b[0mis_datetimelike_v_numeric\u001b[0m\u001b[0;34m(\u001b[0m\u001b[0mx\u001b[0m\u001b[0;34m,\u001b[0m \u001b[0my\u001b[0m\u001b[0;34m)\u001b[0m\u001b[0;34m:\u001b[0m\u001b[0;34m\u001b[0m\u001b[0;34m\u001b[0m\u001b[0m\n",
      "\u001b[0;32m/usr/local/bin/anaconda3/lib/python3.7/site-packages/pandas/core/ops.py\u001b[0m in \u001b[0;36m_comp_method_OBJECT_ARRAY\u001b[0;34m(op, x, y)\u001b[0m\n\u001b[1;32m   1601\u001b[0m         \u001b[0mresult\u001b[0m \u001b[0;34m=\u001b[0m \u001b[0mlibops\u001b[0m\u001b[0;34m.\u001b[0m\u001b[0mvec_compare\u001b[0m\u001b[0;34m(\u001b[0m\u001b[0mx\u001b[0m\u001b[0;34m,\u001b[0m \u001b[0my\u001b[0m\u001b[0;34m,\u001b[0m \u001b[0mop\u001b[0m\u001b[0;34m)\u001b[0m\u001b[0;34m\u001b[0m\u001b[0;34m\u001b[0m\u001b[0m\n\u001b[1;32m   1602\u001b[0m     \u001b[0;32melse\u001b[0m\u001b[0;34m:\u001b[0m\u001b[0;34m\u001b[0m\u001b[0;34m\u001b[0m\u001b[0m\n\u001b[0;32m-> 1603\u001b[0;31m         \u001b[0mresult\u001b[0m \u001b[0;34m=\u001b[0m \u001b[0mlibops\u001b[0m\u001b[0;34m.\u001b[0m\u001b[0mscalar_compare\u001b[0m\u001b[0;34m(\u001b[0m\u001b[0mx\u001b[0m\u001b[0;34m,\u001b[0m \u001b[0my\u001b[0m\u001b[0;34m,\u001b[0m \u001b[0mop\u001b[0m\u001b[0;34m)\u001b[0m\u001b[0;34m\u001b[0m\u001b[0;34m\u001b[0m\u001b[0m\n\u001b[0m\u001b[1;32m   1604\u001b[0m     \u001b[0;32mreturn\u001b[0m \u001b[0mresult\u001b[0m\u001b[0;34m\u001b[0m\u001b[0;34m\u001b[0m\u001b[0m\n\u001b[1;32m   1605\u001b[0m \u001b[0;34m\u001b[0m\u001b[0m\n",
      "\u001b[0;31mKeyboardInterrupt\u001b[0m: "
     ]
    }
   ],
   "source": [
    "for idx, row in promoters.iterrows():\n",
    "    #m = max(heights[heights.chr == row.chr][heights.start >= row.start][heights.end <= row.end].ht)\n",
    "    print(len(bedgraph[bedgraph.chr == row.chr][bedgraph.start >= row.start][bedgraph.end <= row.end].ht))\n",
    "    #regions.iat[idx,6] = m\n",
    "regions.head()"
   ]
  },
  {
   "cell_type": "code",
   "execution_count": 185,
   "metadata": {},
   "outputs": [
    {
     "ename": "TypeError",
     "evalue": "'method' object is not subscriptable",
     "output_type": "error",
     "traceback": [
      "\u001b[0;31m---------------------------------------------------------------------------\u001b[0m",
      "\u001b[0;31mTypeError\u001b[0m                                 Traceback (most recent call last)",
      "\u001b[0;32m<ipython-input-185-a26a60b417af>\u001b[0m in \u001b[0;36m<module>\u001b[0;34m\u001b[0m\n\u001b[0;32m----> 1\u001b[0;31m \u001b[0mregions\u001b[0m\u001b[0;34m.\u001b[0m\u001b[0mmax\u001b[0m\u001b[0;34m[\u001b[0m\u001b[0mregions\u001b[0m\u001b[0;34m[\u001b[0m\u001b[0;34m'max'\u001b[0m\u001b[0;34m]\u001b[0m \u001b[0;34m>\u001b[0m\u001b[0;36m0\u001b[0m\u001b[0;34m]\u001b[0m\u001b[0;34m.\u001b[0m\u001b[0mtail\u001b[0m\u001b[0;34m(\u001b[0m\u001b[0;34m)\u001b[0m\u001b[0;34m\u001b[0m\u001b[0;34m\u001b[0m\u001b[0m\n\u001b[0m",
      "\u001b[0;31mTypeError\u001b[0m: 'method' object is not subscriptable"
     ]
    }
   ],
   "source": [
    "regions.max[regions['max'] >0].tail()"
   ]
  },
  {
   "cell_type": "code",
   "execution_count": 169,
   "metadata": {},
   "outputs": [],
   "source": [
    "regions.iat[0,6] = 1"
   ]
  },
  {
   "cell_type": "code",
   "execution_count": null,
   "metadata": {},
   "outputs": [],
   "source": [
    "regions.head()"
   ]
  },
  {
   "cell_type": "code",
   "execution_count": 110,
   "metadata": {},
   "outputs": [],
   "source": [
    "df = pd.DataFrame([[0, 2, 3], [0, 4, 1], [10, 20, 30]],columns=['A', 'B', 'C'])"
   ]
  },
  {
   "cell_type": "code",
   "execution_count": 111,
   "metadata": {},
   "outputs": [
    {
     "data": {
      "text/plain": [
       "1"
      ]
     },
     "execution_count": 111,
     "metadata": {},
     "output_type": "execute_result"
    }
   ],
   "source": [
    "df.iat[1, 2]"
   ]
  },
  {
   "cell_type": "code",
   "execution_count": 140,
   "metadata": {},
   "outputs": [
    {
     "ename": "IndexError",
     "evalue": "index 7 is out of bounds for axis 0 with size 3",
     "output_type": "error",
     "traceback": [
      "\u001b[0;31m---------------------------------------------------------------------------\u001b[0m",
      "\u001b[0;31mIndexError\u001b[0m                                Traceback (most recent call last)",
      "\u001b[0;32m<ipython-input-140-06e16ca2c4a7>\u001b[0m in \u001b[0;36m<module>\u001b[0;34m\u001b[0m\n\u001b[0;32m----> 1\u001b[0;31m \u001b[0mdf\u001b[0m\u001b[0;34m.\u001b[0m\u001b[0miat\u001b[0m\u001b[0;34m[\u001b[0m\u001b[0;36m7\u001b[0m\u001b[0;34m,\u001b[0m \u001b[0;36m1\u001b[0m\u001b[0;34m]\u001b[0m \u001b[0;34m=\u001b[0m \u001b[0;36m10\u001b[0m\u001b[0;34m\u001b[0m\u001b[0;34m\u001b[0m\u001b[0m\n\u001b[0m\u001b[1;32m      2\u001b[0m \u001b[0mdf\u001b[0m\u001b[0;34m.\u001b[0m\u001b[0miat\u001b[0m\u001b[0;34m[\u001b[0m\u001b[0;36m7\u001b[0m\u001b[0;34m,\u001b[0m \u001b[0;36m1\u001b[0m\u001b[0;34m]\u001b[0m\u001b[0;34m\u001b[0m\u001b[0;34m\u001b[0m\u001b[0m\n",
      "\u001b[0;32m/usr/local/bin/anaconda3/lib/python3.7/site-packages/pandas/core/indexing.py\u001b[0m in \u001b[0;36m__setitem__\u001b[0;34m(self, key, value)\u001b[0m\n\u001b[1;32m   2285\u001b[0m         \u001b[0mkey\u001b[0m \u001b[0;34m=\u001b[0m \u001b[0mlist\u001b[0m\u001b[0;34m(\u001b[0m\u001b[0mself\u001b[0m\u001b[0;34m.\u001b[0m\u001b[0m_convert_key\u001b[0m\u001b[0;34m(\u001b[0m\u001b[0mkey\u001b[0m\u001b[0;34m,\u001b[0m \u001b[0mis_setter\u001b[0m\u001b[0;34m=\u001b[0m\u001b[0;32mTrue\u001b[0m\u001b[0;34m)\u001b[0m\u001b[0;34m)\u001b[0m\u001b[0;34m\u001b[0m\u001b[0;34m\u001b[0m\u001b[0m\n\u001b[1;32m   2286\u001b[0m         \u001b[0mkey\u001b[0m\u001b[0;34m.\u001b[0m\u001b[0mappend\u001b[0m\u001b[0;34m(\u001b[0m\u001b[0mvalue\u001b[0m\u001b[0;34m)\u001b[0m\u001b[0;34m\u001b[0m\u001b[0;34m\u001b[0m\u001b[0m\n\u001b[0;32m-> 2287\u001b[0;31m         \u001b[0mself\u001b[0m\u001b[0;34m.\u001b[0m\u001b[0mobj\u001b[0m\u001b[0;34m.\u001b[0m\u001b[0m_set_value\u001b[0m\u001b[0;34m(\u001b[0m\u001b[0;34m*\u001b[0m\u001b[0mkey\u001b[0m\u001b[0;34m,\u001b[0m \u001b[0mtakeable\u001b[0m\u001b[0;34m=\u001b[0m\u001b[0mself\u001b[0m\u001b[0;34m.\u001b[0m\u001b[0m_takeable\u001b[0m\u001b[0;34m)\u001b[0m\u001b[0;34m\u001b[0m\u001b[0;34m\u001b[0m\u001b[0m\n\u001b[0m\u001b[1;32m   2288\u001b[0m \u001b[0;34m\u001b[0m\u001b[0m\n\u001b[1;32m   2289\u001b[0m \u001b[0;34m\u001b[0m\u001b[0m\n",
      "\u001b[0;32m/usr/local/bin/anaconda3/lib/python3.7/site-packages/pandas/core/frame.py\u001b[0m in \u001b[0;36m_set_value\u001b[0;34m(self, index, col, value, takeable)\u001b[0m\n\u001b[1;32m   2809\u001b[0m             \u001b[0;32mif\u001b[0m \u001b[0mtakeable\u001b[0m \u001b[0;32mis\u001b[0m \u001b[0;32mTrue\u001b[0m\u001b[0;34m:\u001b[0m\u001b[0;34m\u001b[0m\u001b[0;34m\u001b[0m\u001b[0m\n\u001b[1;32m   2810\u001b[0m                 \u001b[0mseries\u001b[0m \u001b[0;34m=\u001b[0m \u001b[0mself\u001b[0m\u001b[0;34m.\u001b[0m\u001b[0m_iget_item_cache\u001b[0m\u001b[0;34m(\u001b[0m\u001b[0mcol\u001b[0m\u001b[0;34m)\u001b[0m\u001b[0;34m\u001b[0m\u001b[0;34m\u001b[0m\u001b[0m\n\u001b[0;32m-> 2811\u001b[0;31m                 \u001b[0;32mreturn\u001b[0m \u001b[0mseries\u001b[0m\u001b[0;34m.\u001b[0m\u001b[0m_set_value\u001b[0m\u001b[0;34m(\u001b[0m\u001b[0mindex\u001b[0m\u001b[0;34m,\u001b[0m \u001b[0mvalue\u001b[0m\u001b[0;34m,\u001b[0m \u001b[0mtakeable\u001b[0m\u001b[0;34m=\u001b[0m\u001b[0;32mTrue\u001b[0m\u001b[0;34m)\u001b[0m\u001b[0;34m\u001b[0m\u001b[0;34m\u001b[0m\u001b[0m\n\u001b[0m\u001b[1;32m   2812\u001b[0m \u001b[0;34m\u001b[0m\u001b[0m\n\u001b[1;32m   2813\u001b[0m             \u001b[0mseries\u001b[0m \u001b[0;34m=\u001b[0m \u001b[0mself\u001b[0m\u001b[0;34m.\u001b[0m\u001b[0m_get_item_cache\u001b[0m\u001b[0;34m(\u001b[0m\u001b[0mcol\u001b[0m\u001b[0;34m)\u001b[0m\u001b[0;34m\u001b[0m\u001b[0;34m\u001b[0m\u001b[0m\n",
      "\u001b[0;32m/usr/local/bin/anaconda3/lib/python3.7/site-packages/pandas/core/series.py\u001b[0m in \u001b[0;36m_set_value\u001b[0;34m(self, label, value, takeable)\u001b[0m\n\u001b[1;32m   1221\u001b[0m         \u001b[0;32mtry\u001b[0m\u001b[0;34m:\u001b[0m\u001b[0;34m\u001b[0m\u001b[0;34m\u001b[0m\u001b[0m\n\u001b[1;32m   1222\u001b[0m             \u001b[0;32mif\u001b[0m \u001b[0mtakeable\u001b[0m\u001b[0;34m:\u001b[0m\u001b[0;34m\u001b[0m\u001b[0;34m\u001b[0m\u001b[0m\n\u001b[0;32m-> 1223\u001b[0;31m                 \u001b[0mself\u001b[0m\u001b[0;34m.\u001b[0m\u001b[0m_values\u001b[0m\u001b[0;34m[\u001b[0m\u001b[0mlabel\u001b[0m\u001b[0;34m]\u001b[0m \u001b[0;34m=\u001b[0m \u001b[0mvalue\u001b[0m\u001b[0;34m\u001b[0m\u001b[0;34m\u001b[0m\u001b[0m\n\u001b[0m\u001b[1;32m   1224\u001b[0m             \u001b[0;32melse\u001b[0m\u001b[0;34m:\u001b[0m\u001b[0;34m\u001b[0m\u001b[0;34m\u001b[0m\u001b[0m\n\u001b[1;32m   1225\u001b[0m                 \u001b[0mself\u001b[0m\u001b[0;34m.\u001b[0m\u001b[0mindex\u001b[0m\u001b[0;34m.\u001b[0m\u001b[0m_engine\u001b[0m\u001b[0;34m.\u001b[0m\u001b[0mset_value\u001b[0m\u001b[0;34m(\u001b[0m\u001b[0mself\u001b[0m\u001b[0;34m.\u001b[0m\u001b[0m_values\u001b[0m\u001b[0;34m,\u001b[0m \u001b[0mlabel\u001b[0m\u001b[0;34m,\u001b[0m \u001b[0mvalue\u001b[0m\u001b[0;34m)\u001b[0m\u001b[0;34m\u001b[0m\u001b[0;34m\u001b[0m\u001b[0m\n",
      "\u001b[0;31mIndexError\u001b[0m: index 7 is out of bounds for axis 0 with size 3"
     ]
    }
   ],
   "source": [
    "df.iat[7, 1] = 10\n",
    "df.iat[7, 1]"
   ]
  },
  {
   "cell_type": "code",
   "execution_count": 130,
   "metadata": {},
   "outputs": [],
   "source": [
    "regions = pd.DataFrame(regions)"
   ]
  },
  {
   "cell_type": "code",
   "execution_count": 161,
   "metadata": {},
   "outputs": [
    {
     "data": {
      "text/plain": [
       "10"
      ]
     },
     "execution_count": 161,
     "metadata": {},
     "output_type": "execute_result"
    }
   ],
   "source": [
    "regions.iat[0,6] = 10\n",
    "regions.iat[2,6]"
   ]
  },
  {
   "cell_type": "code",
   "execution_count": 162,
   "metadata": {},
   "outputs": [
    {
     "data": {
      "text/html": [
       "<div>\n",
       "<style scoped>\n",
       "    .dataframe tbody tr th:only-of-type {\n",
       "        vertical-align: middle;\n",
       "    }\n",
       "\n",
       "    .dataframe tbody tr th {\n",
       "        vertical-align: top;\n",
       "    }\n",
       "\n",
       "    .dataframe thead th {\n",
       "        text-align: right;\n",
       "    }\n",
       "</style>\n",
       "<table border=\"1\" class=\"dataframe\">\n",
       "  <thead>\n",
       "    <tr style=\"text-align: right;\">\n",
       "      <th></th>\n",
       "      <th>chr</th>\n",
       "      <th>start</th>\n",
       "      <th>end</th>\n",
       "      <th>length</th>\n",
       "      <th>strand</th>\n",
       "      <th>name</th>\n",
       "      <th>max</th>\n",
       "    </tr>\n",
       "  </thead>\n",
       "  <tbody>\n",
       "    <tr>\n",
       "      <th>0</th>\n",
       "      <td>chr1</td>\n",
       "      <td>10</td>\n",
       "      <td>6645</td>\n",
       "      <td>1000</td>\n",
       "      <td>-</td>\n",
       "      <td>CNAG_04548</td>\n",
       "      <td>10</td>\n",
       "    </tr>\n",
       "    <tr>\n",
       "      <th>1</th>\n",
       "      <td>chr1</td>\n",
       "      <td>10</td>\n",
       "      <td>8982</td>\n",
       "      <td>1000</td>\n",
       "      <td>-</td>\n",
       "      <td>CNAG_07303</td>\n",
       "      <td>0</td>\n",
       "    </tr>\n",
       "    <tr>\n",
       "      <th>2</th>\n",
       "      <td>chr1</td>\n",
       "      <td>10</td>\n",
       "      <td>10</td>\n",
       "      <td>10</td>\n",
       "      <td>10</td>\n",
       "      <td>10</td>\n",
       "      <td>10</td>\n",
       "    </tr>\n",
       "    <tr>\n",
       "      <th>3</th>\n",
       "      <td>chr1</td>\n",
       "      <td>11665</td>\n",
       "      <td>12664</td>\n",
       "      <td>1000</td>\n",
       "      <td>-</td>\n",
       "      <td>CNAG_00001</td>\n",
       "      <td>0</td>\n",
       "    </tr>\n",
       "    <tr>\n",
       "      <th>4</th>\n",
       "      <td>chr1</td>\n",
       "      <td>12394</td>\n",
       "      <td>13393</td>\n",
       "      <td>1000</td>\n",
       "      <td>-</td>\n",
       "      <td>CNAG_07305</td>\n",
       "      <td>0</td>\n",
       "    </tr>\n",
       "  </tbody>\n",
       "</table>\n",
       "</div>"
      ],
      "text/plain": [
       "    chr  start    end  length strand        name  max\n",
       "0  chr1     10   6645    1000      -  CNAG_04548   10\n",
       "1  chr1     10   8982    1000      -  CNAG_07303    0\n",
       "2  chr1     10     10      10     10          10   10\n",
       "3  chr1  11665  12664    1000      -  CNAG_00001    0\n",
       "4  chr1  12394  13393    1000      -  CNAG_07305    0"
      ]
     },
     "execution_count": 162,
     "metadata": {},
     "output_type": "execute_result"
    }
   ],
   "source": [
    "regions.head()"
   ]
  },
  {
   "cell_type": "code",
   "execution_count": 3,
   "metadata": {},
   "outputs": [
    {
     "name": "stdout",
     "output_type": "stream",
     "text": [
      "macs_opt.sh\n",
      "macs-c3-bedgraphs.sh\n",
      "locate-motif.py\n",
      "Untitled.ipynb\n",
      "19\n",
      "peakanalysis.R\n",
      ".README.md.swp\n",
      "CCCT-hits.fasta\n",
      "23\n",
      "run1\n",
      "18\n",
      "macs-c4-bedgraphs.sh\n",
      ".parse-MACS.sh.swp\n",
      "find-3-motifs.sh\n",
      "macs-od5redo.sh\n",
      "bed-awk.sh\n",
      "diffbind2homerbed.sh\n",
      "14\n",
      "diff-cutoff-macs-bdg.sh\n",
      "downsample.py\n",
      "6\n",
      "hits.txt\n",
      "diffbind_analysis.R\n",
      "generate_samplesheet.sh\n",
      "10\n",
      "resample_rerun_macs.sh\n",
      "2\n",
      "resample_bams.sh\n",
      "Untitled1.ipynb\n",
      "homer-run.sh\n",
      "5\n",
      "9\n",
      "macs-redoC.sh\n",
      "this\n",
      "15\n",
      "macs-bedgraphs.sh\n",
      "get-fasta-homer.sh\n",
      "diff-macs.sh\n",
      "1\n",
      "gimsan-run.sh\n",
      ".ipynb_checkpoints\n",
      "qN2_OD1_bdg.bed\n",
      "run13\n",
      "22\n",
      "bed2fasta.sh\n",
      "locate-N-motif.sh\n",
      "match-motifs.sh\n"
     ]
    }
   ],
   "source": [
    "for x in os.listdir('/data/diana/DKS13_YNBChIPseq/OD1/'):\n",
    "    print(x)\n",
    "    \n"
   ]
  },
  {
   "cell_type": "code",
   "execution_count": 5,
   "metadata": {},
   "outputs": [],
   "source": [
    "# bedgraphs = list of bedgraph files to include in the analysis\n",
    "bedgraphs = '/data/diana/DKS13_YNBChIPseq/Bedgraphs/*sorted_norm_50bp_smooth.bedgraph'\n",
    "dirlist = glob.glob(bedgraphs)\n",
    "\n",
    "for bedgraph in bedgraphs:\n",
    "    "
   ]
  },
  {
   "cell_type": "code",
   "execution_count": 6,
   "metadata": {},
   "outputs": [
    {
     "data": {
      "text/plain": [
       "['/data/diana/DKS13_YNBChIPseq/Bedgraphs/DKS13_C2_OD1_YNB_sorted_norm_50bp_smooth.bedgraph',\n",
       " '/data/diana/DKS13_YNBChIPseq/Bedgraphs/DKS13_qN2_OD5_YNB_sorted_norm_50bp_smooth.bedgraph',\n",
       " '/data/diana/DKS13_YNBChIPseq/Bedgraphs/DKS13_N2_OD1_YNB_sorted_norm_50bp_smooth.bedgraph',\n",
       " '/data/diana/DKS13_YNBChIPseq/Bedgraphs/DKS13_L2_OD1_YNB_sorted_norm_50bp_smooth.bedgraph',\n",
       " '/data/diana/DKS13_YNBChIPseq/Bedgraphs/DKS13_WCE_OD5_YNB_sorted_norm_50bp_smooth.bedgraph',\n",
       " '/data/diana/DKS13_YNBChIPseq/Bedgraphs/DKS13_L1_OD5_YNB_sorted_norm_50bp_smooth.bedgraph',\n",
       " '/data/diana/DKS13_YNBChIPseq/Bedgraphs/DKS13_WCE_OD1_YNB_sorted_norm_50bp_smooth.bedgraph',\n",
       " '/data/diana/DKS13_YNBChIPseq/Bedgraphs/DKS13_C1_OD5_YNB_sorted_norm_50bp_smooth.bedgraph',\n",
       " '/data/diana/DKS13_YNBChIPseq/Bedgraphs/DKS13_qC1_OD5_YNB_sorted_norm_50bp_smooth.bedgraph',\n",
       " '/data/diana/DKS13_YNBChIPseq/Bedgraphs/DKS13_N1_OD1_sorted_norm_50bp_smooth.bedgraph',\n",
       " '/data/diana/DKS13_YNBChIPseq/Bedgraphs/DKS13_qN1_OD5_YNB_sorted_norm_50bp_smooth.bedgraph',\n",
       " '/data/diana/DKS13_YNBChIPseq/Bedgraphs/DKS13_C2_OD5_YNB_sorted_norm_50bp_smooth.bedgraph',\n",
       " '/data/diana/DKS13_YNBChIPseq/Bedgraphs/DKS13_N2_OD5_YNB_sorted_norm_50bp_smooth.bedgraph',\n",
       " '/data/diana/DKS13_YNBChIPseq/Bedgraphs/DKS13_qL1_OD1_YNB_sorted_norm_50bp_smooth.bedgraph',\n",
       " '/data/diana/DKS13_YNBChIPseq/Bedgraphs/DKS13_qN2_OD1_YNB_sorted_norm_50bp_smooth.bedgraph',\n",
       " '/data/diana/DKS13_YNBChIPseq/Bedgraphs/DKS13_qL2_OD1_YNB_sorted_norm_50bp_smooth.bedgraph',\n",
       " '/data/diana/DKS13_YNBChIPseq/Bedgraphs/DKS13_C1_OD1_YNB_sorted_norm_50bp_smooth.bedgraph',\n",
       " '/data/diana/DKS13_YNBChIPseq/Bedgraphs/DKS13_qC2_OD1_YNB_sorted_norm_50bp_smooth.bedgraph',\n",
       " '/data/diana/DKS13_YNBChIPseq/Bedgraphs/DKS13_qN1_OD1_YNB_sorted_norm_50bp_smooth.bedgraph',\n",
       " '/data/diana/DKS13_YNBChIPseq/Bedgraphs/DKS13_L1_OD1_sorted_norm_50bp_smooth.bedgraph',\n",
       " '/data/diana/DKS13_YNBChIPseq/Bedgraphs/DKS13_qL1_OD5_YNB_sorted_norm_50bp_smooth.bedgraph',\n",
       " '/data/diana/DKS13_YNBChIPseq/Bedgraphs/DKS13_qC1_OD1_YNB_sorted_norm_50bp_smooth.bedgraph',\n",
       " '/data/diana/DKS13_YNBChIPseq/Bedgraphs/DKS13_N1_OD5_YNB_sorted_norm_50bp_smooth.bedgraph',\n",
       " '/data/diana/DKS13_YNBChIPseq/Bedgraphs/DKS13_qC2_OD5_YNB_sorted_norm_50bp_smooth.bedgraph']"
      ]
     },
     "execution_count": 6,
     "metadata": {},
     "output_type": "execute_result"
    }
   ],
   "source": [
    "dirlist"
   ]
  },
  {
   "cell_type": "code",
   "execution_count": null,
   "metadata": {},
   "outputs": [],
   "source": []
  }
 ],
 "metadata": {
  "kernelspec": {
   "display_name": "Python 2",
   "language": "python",
   "name": "python2"
  },
  "language_info": {
   "codemirror_mode": {
    "name": "ipython",
    "version": 3
   },
   "file_extension": ".py",
   "mimetype": "text/x-python",
   "name": "python",
   "nbconvert_exporter": "python",
   "pygments_lexer": "ipython3",
   "version": "3.7.3"
  }
 },
 "nbformat": 4,
 "nbformat_minor": 2
}
